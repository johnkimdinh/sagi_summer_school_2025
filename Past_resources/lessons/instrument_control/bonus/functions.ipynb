{
 "cells": [
  {
   "cell_type": "markdown",
   "id": "b80e356d",
   "metadata": {},
   "source": [
    "# Challenging Python Function Problems\n",
    "For each of these problem, you will need to write your own tests to ensure that it has the desired behavior. \n",
    "\n",
    "## Problem 1: Memoization\n",
    "\n",
    "Implement a memoized version of a function to calculate the n-th Fibonacci number. The function should cache previously computed values to improve efficiency."
   ]
  },
  {
   "cell_type": "code",
   "execution_count": null,
   "id": "86685c60",
   "metadata": {},
   "outputs": [],
   "source": [
    "def memoized_fibonacci(n, cache=None):\n",
    "    # Your code here"
   ]
  },
  {
   "cell_type": "code",
   "execution_count": null,
   "id": "4db531a2",
   "metadata": {},
   "outputs": [],
   "source": [
    "n = 10\n",
    "print(f\"The {n}-th Fibonacci number is {memoized_fibonacci(n)}\")"
   ]
  },
  {
   "cell_type": "markdown",
   "id": "22f6bbf5",
   "metadata": {},
   "source": [
    "## Problem 2: Higher-Order Functions\n",
    "\n",
    "Write a higher-order function `compose` that takes two functions `f` and `g` as arguments and returns a new function `h` such that `h(x) = f(g(x))`."
   ]
  },
  {
   "cell_type": "code",
   "execution_count": null,
   "id": "8eb3f74c",
   "metadata": {},
   "outputs": [],
   "source": [
    "def compose(f, g):\n",
    "    # Your code here"
   ]
  },
  {
   "cell_type": "code",
   "execution_count": null,
   "id": "dd2462b5",
   "metadata": {},
   "outputs": [],
   "source": [
    "def f(x):\n",
    "    return x + 2\n",
    "\n",
    "def g(x):\n",
    "    return x * 3\n",
    "\n",
    "h = compose(f, g)\n",
    "x = 5\n",
    "print(f\"h({x}) = {h(x)}\") "
   ]
  },
  {
   "cell_type": "markdown",
   "id": "3687c745",
   "metadata": {},
   "source": [
    "## Problem 3: Currying\n",
    "\n",
    "Implement a curried version of a function that takes three arguments and returns their sum. The curried function should be called in a chain of single-argument function calls."
   ]
  },
  {
   "cell_type": "code",
   "execution_count": null,
   "id": "cec4a7bd",
   "metadata": {},
   "outputs": [],
   "source": [
    "# Your code here"
   ]
  },
  {
   "cell_type": "code",
   "execution_count": null,
   "id": "848b599e",
   "metadata": {},
   "outputs": [],
   "source": [
    "curried_sum(1)(2)(3)"
   ]
  },
  {
   "cell_type": "markdown",
   "id": "8673f11b",
   "metadata": {},
   "source": [
    "## Problem 4: Lambda Functions\n",
    "\n",
    "Given a list of tuples containing two integers each, use a lambda function to sort the list based on the sum of the integers in each tuple."
   ]
  },
  {
   "cell_type": "code",
   "execution_count": null,
   "id": "51521deb",
   "metadata": {},
   "outputs": [],
   "source": [
    "list_of_tuples = [(1, 2), (3, 4), (1, 1), (4, 2)]\n",
    "# Your code here"
   ]
  },
  {
   "cell_type": "code",
   "execution_count": null,
   "id": "3f0c8c24",
   "metadata": {},
   "outputs": [],
   "source": [
    "print(\"Original list:\", list_of_tuples)\n",
    "print(\"Sorted list:\", sorted_list)"
   ]
  },
  {
   "cell_type": "markdown",
   "id": "34be0d06",
   "metadata": {},
   "source": [
    "## Problem 5: Function Generators\n",
    "\n",
    "Write a generator function `fibonacci_gen` that yields the Fibonacci sequence indefinitely."
   ]
  },
  {
   "cell_type": "code",
   "execution_count": null,
   "id": "4d19f766",
   "metadata": {},
   "outputs": [],
   "source": [
    "def fibonacci_gen():\n",
    "    # Your code here"
   ]
  },
  {
   "cell_type": "code",
   "execution_count": null,
   "id": "52d09419",
   "metadata": {},
   "outputs": [],
   "source": [
    "fib_gen = fibonacci_gen()\n",
    "for _ in range(10):\n",
    "    print(next(fib_gen))"
   ]
  },
  {
   "cell_type": "markdown",
   "id": "a436f120",
   "metadata": {},
   "source": [
    "## Problem 6: Function Introspection\n",
    "\n",
    "Create a function `describe_function` that takes another function as an argument and prints its name, docstring, and the names and default values of its parameters."
   ]
  },
  {
   "cell_type": "code",
   "execution_count": null,
   "id": "16dddd36",
   "metadata": {},
   "outputs": [],
   "source": [
    "def describe_function(func):\n",
    "    # Your code here"
   ]
  },
  {
   "cell_type": "code",
   "execution_count": null,
   "id": "68dbcb6f",
   "metadata": {},
   "outputs": [],
   "source": [
    "def example_function(param1, param2='default', param3=42):\n",
    "    \"\"\"\n",
    "    This is an example function.\n",
    "    \n",
    "    Parameters:\n",
    "    param1: The first parameter.\n",
    "    param2: The second parameter, with a default value.\n",
    "    param3: The third parameter, with a default value.\n",
    "    \"\"\"\n",
    "    pass\n",
    "\n",
    "describe_function(example_function)"
   ]
  }
 ],
 "metadata": {
  "kernelspec": {
   "display_name": "Python 3 (ipykernel)",
   "language": "python",
   "name": "python3"
  },
  "language_info": {
   "codemirror_mode": {
    "name": "ipython",
    "version": 3
   },
   "file_extension": ".py",
   "mimetype": "text/x-python",
   "name": "python",
   "nbconvert_exporter": "python",
   "pygments_lexer": "ipython3",
   "version": "3.9.12"
  }
 },
 "nbformat": 4,
 "nbformat_minor": 5
}
